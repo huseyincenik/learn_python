{
 "cells": [
  {
   "cell_type": "markdown",
   "id": "069fb27b",
   "metadata": {},
   "source": [
    "<strong>Given two integer values, return their sum. If the two values are the same, then return double their sum.</strong>\n",
    "\n",
    "For example:\n",
    "\n",
    "\n",
    "\n",
    "|  TEST    | RESULT|\n",
    "|:-------:| -----:|\n",
    "|print(sum_double(1, 2))  | 3     |\n",
    "|print(sum_double(5, 7))  | 12    |\n",
    "|print(sum_double(5, 5)) | 20 |"
   ]
  },
  {
   "cell_type": "markdown",
   "id": "4b0b0d8d",
   "metadata": {},
   "source": [
    "|  TEST    | RESULT|\n",
    "|:-------:| -----:|\n",
    "|print(parrot_trouble(True, 5))   | True    |\n",
    "|print(parrot_trouble(True, 8))   | False   |\n",
    "|print(parrot_trouble(False, 22)) | False   |"
   ]
  },
  {
   "cell_type": "code",
   "execution_count": 2,
   "id": "3198b046",
   "metadata": {},
   "outputs": [
    {
     "name": "stdout",
     "output_type": "stream",
     "text": [
      "3\n",
      "12\n",
      "20\n"
     ]
    }
   ],
   "source": [
    "def sum_double(x, y):\n",
    "    return  x + y if x != y else (x + y) * 2  \n",
    "print(sum_double(1, 2)) \n",
    "print(sum_double(5, 7))\n",
    "print(sum_double(5, 5)) "
   ]
  },
  {
   "cell_type": "markdown",
   "id": "5042f5e5",
   "metadata": {},
   "source": [
    "<strong>We have a loud talking parrot. We are in trouble if the parrot is talking and the hour is before 6 or after 21.\n",
    "Define a function taking two parameters (talking and hour) to return True if we are in trouble. The argument to  talking parameter can only be True or False whether it is talking or not. The argument to hour parameter should be the current hour time in the range of 0 to 23.</strong>\n",
    "\n",
    "\n",
    "For example:\n",
    "\n",
    "|  TEST    | RESULT|\n",
    "|:-------:| -----:|\n",
    "|print(parrot_trouble(True, 5))   | True    |\n",
    "|print(parrot_trouble(True, 8))   | False   |\n",
    "|print(parrot_trouble(False, 22)) | False   |"
   ]
  },
  {
   "cell_type": "code",
   "execution_count": 3,
   "id": "6eb8aeb3",
   "metadata": {},
   "outputs": [
    {
     "name": "stdout",
     "output_type": "stream",
     "text": [
      "True\n",
      "False\n",
      "False\n"
     ]
    }
   ],
   "source": [
    "def parrot_trouble(talking, hour):\n",
    "    return  True if talking and (hour < 6 or hour > 21) else False \n",
    "\n",
    "\n",
    "print(parrot_trouble(True, 5))\n",
    "print(parrot_trouble(True, 8))\n",
    "print(parrot_trouble(False, 22))"
   ]
  },
  {
   "cell_type": "markdown",
   "id": "289975a0",
   "metadata": {},
   "source": [
    "<strong>Define a function to take a word and return negative meaning.\n",
    "Given a word, return a new word where \"not \" has been added to the front. However, if the word already begins with \"not\", return the string unchanged.</strong>\n",
    "\n",
    "For example:\n",
    "\n",
    "|  TEST    | RESULT|\n",
    "|:-------:| -----:|\n",
    "|print(not_string('sugar'))   | not sugar    |\n",
    "|print(not_string('x'))     | not x   |\n",
    "|print(not_string('not bad'))  | not bad   |\n"
   ]
  },
  {
   "cell_type": "code",
   "execution_count": 4,
   "id": "4b586d28",
   "metadata": {},
   "outputs": [
    {
     "name": "stdout",
     "output_type": "stream",
     "text": [
      "not sugar\n",
      "not x\n",
      "not bad\n"
     ]
    }
   ],
   "source": [
    "def not_string(word):\n",
    "    return word if word.startswith(\"not\") else \"not \" + word\n",
    "\n",
    "print(not_string('sugar')) \n",
    "print(not_string('x')) \n",
    "print(not_string('not bad')) "
   ]
  },
  {
   "cell_type": "markdown",
   "id": "38025d27",
   "metadata": {},
   "source": [
    "<strong>Given a non-empty string and an int n, return a new string where the character at index n has been removed. The value of n will be a valid index of a character in the original string (i.e. n will be in the range 0....len(str)-1 inclusive).</strong>\n",
    "\n",
    "\n",
    "For example:\n",
    "\n",
    "|  TEST    | RESULT|\n",
    "|:-------:| -----:|\n",
    "|print(missing_char('kitchen', 1))     | ktchen    |\n",
    "|print(missing_char('kitchen', 0))       | itchen   |\n",
    "|print(missing_char('kitchen', 4))    | kitcen   |\n"
   ]
  },
  {
   "cell_type": "code",
   "execution_count": 5,
   "id": "1dfdd8c5",
   "metadata": {},
   "outputs": [
    {
     "name": "stdout",
     "output_type": "stream",
     "text": [
      "ktchen\n",
      "itchen\n",
      "kitcen\n"
     ]
    }
   ],
   "source": [
    "def missing_char(word, n):\n",
    "    return word.replace(word[n],\"\")\n",
    "\n",
    "print(missing_char('kitchen', 1)) \n",
    "print(missing_char('kitchen', 0))\n",
    "print(missing_char('kitchen', 4))"
   ]
  },
  {
   "cell_type": "markdown",
   "id": "7141f36c",
   "metadata": {},
   "source": [
    "<strong>Given a string, return a new string where the first and last chars have been exchanged.</strong>\n",
    "\n",
    "\n",
    "For example:\n",
    "\n",
    "\n",
    "\n",
    "|  TEST    | RESULT|\n",
    "|:-------:| -----:|\n",
    "|print(front_back('clarusway'))    | ylaruswac    |\n",
    "|print(front_back('a'))        |  a |\n",
    "|print(front_back('ab'))    | ba   |\n"
   ]
  },
  {
   "cell_type": "code",
   "execution_count": 6,
   "id": "e8ee7e99",
   "metadata": {},
   "outputs": [
    {
     "name": "stdout",
     "output_type": "stream",
     "text": [
      "ylaruswac\n",
      "a\n",
      "ba\n"
     ]
    }
   ],
   "source": [
    "def front_back(word):\n",
    "    return word[-1] + word[1:-1] + word[0] if len(word) != 1 else word\n",
    "    \n",
    "# def front_back(word):\n",
    "#     a = word[0]\n",
    "#     b = word[-1]\n",
    "#     word = word.replace(b,a)\n",
    "#     word = word.replace(a,b,1)  \n",
    "#     return word\n",
    "   \n",
    "# print(front_back(\"meet\")) # teem\n",
    "print(front_back('clarusway')) \n",
    "print(front_back('a'))  \n",
    "print(front_back('ab')) \n"
   ]
  },
  {
   "cell_type": "markdown",
   "id": "7e35cbeb",
   "metadata": {},
   "source": [
    "<strong>Define a function named my_min to find the min of the inputted numbers.</strong>\n",
    "\n",
    "For example:\n",
    "\n",
    "\n",
    "|  TEST    | RESULT|\n",
    "|:-------:| -----:|\n",
    "|print(my_min(5,6,7))     | 5    |\n",
    "|print(my_min(3,8,-9,0,12,1.2))         |  -9 |\n",
    "|print(my_min(-100))     | -100   |\n"
   ]
  },
  {
   "cell_type": "code",
   "execution_count": 11,
   "id": "4b91a0a2",
   "metadata": {},
   "outputs": [
    {
     "name": "stdout",
     "output_type": "stream",
     "text": [
      "5\n",
      "-9\n",
      "-100\n"
     ]
    }
   ],
   "source": [
    "def my_min(*my_list):\n",
    "    return min(my_list)\n",
    "\n",
    "print(my_min(5, 6, 7))\n",
    "print(my_min(3,8,-9,0,12,1.2))\n",
    "print(my_min(-100))  "
   ]
  },
  {
   "cell_type": "markdown",
   "id": "7d281381",
   "metadata": {},
   "source": [
    "<strong>Define a function named my_sum to return the sum of all int type inputted numbers.</strong>\n",
    "\n",
    "For example:\n",
    "\n",
    "\n",
    "\n",
    "|  TEST    | RESULT|\n",
    "|:-------:| -----:|\n",
    "|print(my_sum(9, 1, 3, 0, -1))       | 12    |\n",
    "|print(my_sum(5, 7, 4))      |  16|\n",
    "|print(my_sum(10, -20, 30, 40))     | 60   |"
   ]
  },
  {
   "cell_type": "code",
   "execution_count": 26,
   "id": "abf69040",
   "metadata": {},
   "outputs": [
    {
     "name": "stdout",
     "output_type": "stream",
     "text": [
      "12\n",
      "16\n",
      "60\n"
     ]
    }
   ],
   "source": [
    "def my_sum(*my_list):\n",
    "    return sum(my_list)\n",
    "\n",
    "print(my_sum(9, 1, 3, 0, -1)) \n",
    "print(my_sum(5, 7, 4)) \n",
    "print(my_sum(10, -20, 30, 40))  "
   ]
  },
  {
   "cell_type": "markdown",
   "id": "84acc21b",
   "metadata": {},
   "source": [
    "<strong>Define a function named my_fact to calculate factorial of the given number. Given a non-negative integer return the factorial of the integer.</strong>\n",
    "\n",
    "(Example: The factorial of 5 is: 5*4*3*2*1 = 120 and factorial of 0 is: 1)\n",
    "\n",
    "For example:\n",
    "\n",
    "\n",
    "\n",
    "|  TEST    | RESULT|\n",
    "|:-------:| -----:|\n",
    "|print(my_fact(5))      | 120   |\n",
    "|print(my_fact(4))          |  24 |\n",
    "|print(my_fact(3))     | 6   |"
   ]
  },
  {
   "cell_type": "code",
   "execution_count": 32,
   "id": "175d423f",
   "metadata": {},
   "outputs": [
    {
     "name": "stdout",
     "output_type": "stream",
     "text": [
      "120\n",
      "24\n",
      "6\n"
     ]
    }
   ],
   "source": [
    "def my_fact(n):\n",
    "    if n >= 0:\n",
    "        count = 1\n",
    "        for i in range(1,n + 1):\n",
    "            count *= i\n",
    "        return count\n",
    "    else:\n",
    "        print(\"Please enter a number such as 0 or bigger than 0\")\n",
    "print(my_fact(5)) \n",
    "print(my_fact(4))\n",
    "print(my_fact(3))"
   ]
  },
  {
   "cell_type": "markdown",
   "id": "8932dba8",
   "metadata": {},
   "source": [
    "<strong>Given a list, return the most frequent (repeating) element.\n",
    "Note : If there are the same number of repeating elements, it returns the first element that repeats most from left to right in the list.</strong>\n",
    "\n",
    "\n",
    "For example:\n",
    "\n",
    "\n",
    "        \n",
    "|  TEST    | RESULT|\n",
    "|:-------:| -----:|\n",
    "|print(most_freq([1,2,3,3,3,3,4,4,5,5]))      | 3  |\n",
    "|print(most_freq([1,1,2,3,3]))    |  3 |\n",
    "|print(most_freq([3,1,2,1,3]))    | 1  |"
   ]
  },
  {
   "cell_type": "code",
   "execution_count": 77,
   "id": "ce6f2c48",
   "metadata": {},
   "outputs": [
    {
     "name": "stdout",
     "output_type": "stream",
     "text": [
      "3\n",
      "3\n",
      "1\n"
     ]
    }
   ],
   "source": [
    "# Solution 1\n",
    "def most_freq(given_list):\n",
    "    my_list = [given_list.count(i) for i in set(given_list)]\n",
    "    max_number = max(my_list)\n",
    "    for i in given_list:\n",
    "        if given_list.count(i) == max_number:\n",
    "            return i\n",
    "#     return my_list\n",
    "\n",
    "print(most_freq([3,1,2,1,3])) \n",
    "print(most_freq([1,2,3,3,3,3,4,4,5,5])) \n",
    "print(most_freq([1,1,2,3,3])) "
   ]
  },
  {
   "cell_type": "code",
   "execution_count": 78,
   "id": "b2134155",
   "metadata": {},
   "outputs": [
    {
     "name": "stdout",
     "output_type": "stream",
     "text": [
      "3\n",
      "3\n",
      "1\n"
     ]
    }
   ],
   "source": [
    "# Solution 2\n",
    "def most_freq(given_list):\n",
    "    max_number = max([given_list.count(i) for i in set(given_list)])\n",
    "    freq_number = list(filter(lambda x: given_list.count(x) == max_number ,given_list))\n",
    "    return freq_number[0]\n",
    "\n",
    "\n",
    "print(most_freq([3,1,2,1,3])) \n",
    "print(most_freq([1,2,3,3,3,3,4,4,5,5])) \n",
    "print(most_freq([1,1,2,3,3])) "
   ]
  },
  {
   "cell_type": "code",
   "execution_count": 69,
   "id": "4dcb024e",
   "metadata": {},
   "outputs": [],
   "source": [
    "\n",
    "    "
   ]
  },
  {
   "cell_type": "code",
   "execution_count": 79,
   "id": "d094deb4",
   "metadata": {},
   "outputs": [
    {
     "name": "stdout",
     "output_type": "stream",
     "text": [
      "3\n",
      "3\n",
      "1\n"
     ]
    }
   ],
   "source": [
    "# Solution 3\n",
    "def most_freq(given_list):\n",
    "    number = 0\n",
    "    my_dict = {}\n",
    "    for i in given_list:\n",
    "        if i in my_dict:\n",
    "            my_dict[i] += 1\n",
    "        else:\n",
    "            my_dict[i] = 1\n",
    "    max_number = max(my_dict.values())\n",
    "    for i, j in my_dict.items():\n",
    "        if j == max_number:\n",
    "            return i\n",
    "#     return max_number\n",
    "print(most_freq([3,1,2,1,3])) \n",
    "print(most_freq([1,2,3,3,3,3,4,4,5,5])) \n",
    "print(most_freq([1,1,2,3,3])) \n",
    "        \n",
    "        "
   ]
  },
  {
   "cell_type": "code",
   "execution_count": null,
   "id": "44ee8390",
   "metadata": {},
   "outputs": [],
   "source": []
  }
 ],
 "metadata": {
  "kernelspec": {
   "display_name": "Python 3 (ipykernel)",
   "language": "python",
   "name": "python3"
  },
  "language_info": {
   "codemirror_mode": {
    "name": "ipython",
    "version": 3
   },
   "file_extension": ".py",
   "mimetype": "text/x-python",
   "name": "python",
   "nbconvert_exporter": "python",
   "pygments_lexer": "ipython3",
   "version": "3.10.9"
  }
 },
 "nbformat": 4,
 "nbformat_minor": 5
}
