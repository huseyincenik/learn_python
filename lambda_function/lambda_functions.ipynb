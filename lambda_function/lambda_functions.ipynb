{
 "cells": [
  {
   "attachments": {},
   "cell_type": "markdown",
   "metadata": {},
   "source": [
    "# Lambda Function"
   ]
  },
  {
   "attachments": {},
   "cell_type": "markdown",
   "metadata": {},
   "source": [
    "1 . Defining a Lambda Function"
   ]
  },
  {
   "cell_type": "markdown",
   "metadata": {},
   "source": [
    "Another way to define functions in Python is lambda functions. Lambda functions are also called anonymous functions since they have no name. We use keyword lambda to define a function."
   ]
  },
  {
   "attachments": {},
   "cell_type": "markdown",
   "metadata": {},
   "source": [
    "Why we need lambda functions?\n",
    "\n",
    "If you need to use a one-time function, defining a lambda function is the best option. In some cases, you may need to define a function only once without having to use it later. For instance; let's square given numbers with a function. First, we're going to use def :"
   ]
  },
  {
   "cell_type": "markdown",
   "metadata": {},
   "source": []
  },
  {
   "cell_type": "code",
   "execution_count": null,
   "metadata": {},
   "outputs": [],
   "source": [
    "def square(x):\n",
    "    return x**2"
   ]
  },
  {
   "cell_type": "code",
   "execution_count": null,
   "metadata": {},
   "outputs": [],
   "source": [
    "# And now we'll define lambda function to do the same.\n",
    "lambda x: x**2"
   ]
  },
  {
   "cell_type": "markdown",
   "metadata": {},
   "source": [
    "As you see, lambda is very simple and has a single line with a single expression. On the other hand, these two functions do exactly the same thing."
   ]
  },
  {
   "attachments": {},
   "cell_type": "markdown",
   "metadata": {},
   "source": [
    "A lambda function can take multiple arguments 'separated' by commas, but it `must be defined` with a single expression. This expression is evaluated and the result is returned\n",
    "\n",
    "Note that you do not need to use `return` statement in lambda functions."
   ]
  },
  {
   "cell_type": "code",
   "execution_count": null,
   "metadata": {},
   "outputs": [],
   "source": [
    "# Consider the following example of multiple arguments. Let's calculate the arithmetic mean of two numbers :\n",
    "\n",
    "lambda x, y: (x+y)/2  # takes two numbers, returns the result"
   ]
  },
  {
   "attachments": {},
   "cell_type": "markdown",
   "metadata": {},
   "source": [
    "What if we need to use conditional statements within the lambda definition? Here how we do it :"
   ]
  },
  {
   "cell_type": "code",
   "execution_count": null,
   "metadata": {},
   "outputs": [],
   "source": [
    "lambda x: 'odd' if x % 2 != 0 else 'even'"
   ]
  },
  {
   "cell_type": "markdown",
   "metadata": {},
   "source": [
    "syntax : lambda paramters : first_result if conditional statement else second_result"
   ]
  },
  {
   "attachments": {},
   "cell_type": "markdown",
   "metadata": {},
   "source": [
    "you can't use the usual conditional statement with lambda definition.\n"
   ]
  },
  {
   "cell_type": "code",
   "execution_count": 2,
   "metadata": {},
   "outputs": [
    {
     "data": {
      "text/plain": [
       "10"
      ]
     },
     "execution_count": 2,
     "metadata": {},
     "output_type": "execute_result"
    }
   ],
   "source": [
    "a = lambda x: x + 5 \n",
    "a(5)"
   ]
  },
  {
   "attachments": {},
   "cell_type": "markdown",
   "metadata": {},
   "source": [
    "2 . Uses of the Lambda Functions"
   ]
  },
  {
   "attachments": {},
   "cell_type": "markdown",
   "metadata": {},
   "source": [
    "So far you have seen the definition of lambda function and some of its features. Well, unlike def, where do we use lambda? If we need, how do we use the `lambda functions` in our code stream? Moreover, they don't even have names, so how can we call them? In this and the next lesson, we're going to try to find out the answer to these questions.\n",
    "\n",
    "Lambda's most important advantages and uses are:\n",
    "\n",
    "* You can use it with its own syntax using `parentheses`,\n",
    "* You can also assign it to a `variable`,\n",
    "* You can use it in several `built-in` functions,\n",
    "* It can be useful inside `user-defined` functions (def)."
   ]
  },
  {
   "cell_type": "code",
   "execution_count": 4,
   "metadata": {},
   "outputs": [
    {
     "data": {
      "text/plain": [
       "4"
      ]
     },
     "execution_count": 4,
     "metadata": {},
     "output_type": "execute_result"
    }
   ],
   "source": [
    "# By enclosing the function in parentheses :\n",
    "\n",
    "(lambda x: x**2)(2)  # squares '2'\n",
    "\n",
    "#  syntax is : (lambda parameters : expression)(arguments)"
   ]
  },
  {
   "cell_type": "code",
   "execution_count": 5,
   "metadata": {},
   "outputs": [
    {
     "name": "stdout",
     "output_type": "stream",
     "text": [
      "4.0\n"
     ]
    }
   ],
   "source": [
    "# you can use multiple arguments using the same syntax :\n",
    "\n",
    "print((lambda x, y : (x + y)/2)(3, 5)) # takes two int, returns mean of them"
   ]
  },
  {
   "cell_type": "code",
   "execution_count": 6,
   "metadata": {},
   "outputs": [
    {
     "name": "stdout",
     "output_type": "stream",
     "text": [
      "4.0\n"
     ]
    }
   ],
   "source": [
    "# You can also assign the lambda statement in parentheses to a variable :\n",
    "\n",
    "average = (lambda x, y: (x+y)/2)(3, 5) \n",
    "print(average)"
   ]
  },
  {
   "cell_type": "code",
   "execution_count": 7,
   "metadata": {},
   "outputs": [
    {
     "name": "stdout",
     "output_type": "stream",
     "text": [
      "4.0\n"
     ]
    }
   ],
   "source": [
    "# By assigning a function object to a variable :\n",
    "# Alternatively, you can assign the lambda function definition to a variable then you can call it :\n",
    "\n",
    "average = lambda x, y: (x+y)/2\n",
    "print(average(3, 5))  # we call"
   ]
  },
  {
   "cell_type": "code",
   "execution_count": 10,
   "metadata": {},
   "outputs": [
    {
     "name": "stdout",
     "output_type": "stream",
     "text": [
      "hellohellohello\n"
     ]
    }
   ],
   "source": [
    "echo_word = (lambda x: x*3 )('hello')\n",
    "print(echo_word)"
   ]
  },
  {
   "attachments": {},
   "cell_type": "markdown",
   "metadata": {},
   "source": [
    "3 . Lambda within Built-in (map()) Functions-1"
   ]
  },
  {
   "cell_type": "markdown",
   "metadata": {},
   "source": [
    "When using some built-in functions we may need additional functions inside them. This can be done by using def, but when we do the same thing with lambda we save both time and additional lines of code and we make it clear to read."
   ]
  },
  {
   "attachments": {},
   "cell_type": "markdown",
   "metadata": {},
   "source": [
    "Lambda within `map()` function :\n",
    "\n",
    "`map()` returns a list of the outputs after applying the given function to each element of a given iterable object such as list, tuple, etc.\n",
    "\n",
    "The basic formula syntax is : `map(function, iterable)`"
   ]
  },
  {
   "cell_type": "code",
   "execution_count": 12,
   "metadata": {},
   "outputs": [
    {
     "name": "stdout",
     "output_type": "stream",
     "text": [
      "My list :  [1, 2, 3, 4, 5]\n",
      "<class 'map'>\n",
      "[1, 4, 9, 16, 25]\n",
      "[1, 4, 9, 16, 25]\n"
     ]
    }
   ],
   "source": [
    "# Let's square all the numbers in the list using map() and lambda. \n",
    "\n",
    "iterable = [1, 2, 3, 4, 5]\n",
    "print(\"My list : \", iterable)\n",
    "result = map(lambda x:x**2,iterable)\n",
    "print(type(result)) # it's a map type .\n",
    "\n",
    "print(list(result)) # we've converted it to list type to print\n",
    "\n",
    "print(list(map(lambda x:x**2,iterable))) # you can print directly\n",
    "\n",
    "\n",
    "\n"
   ]
  },
  {
   "attachments": {},
   "cell_type": "markdown",
   "metadata": {},
   "source": [
    "If you try to do the same thing using `def`, it is likely that the lines of code similar to the following occur. As you can see below, there are at least two additional lines of code. Moreover, we will not use the `square` function again because we only need to use it inside the `map()` function."
   ]
  },
  {
   "cell_type": "code",
   "execution_count": 14,
   "metadata": {},
   "outputs": [
    {
     "name": "stdout",
     "output_type": "stream",
     "text": [
      "[1, 4, 9, 16, 25]\n"
     ]
    }
   ],
   "source": [
    "def square(n): # at least two additional lines of code \n",
    "    return n**2\n",
    "\n",
    "iterable = [1,2 , 3, 4, 5]\n",
    "result = map(square, iterable)\n",
    "print(list(result))"
   ]
  },
  {
   "cell_type": "code",
   "execution_count": 18,
   "metadata": {},
   "outputs": [
    {
     "name": "stdout",
     "output_type": "stream",
     "text": [
      "['one', 'six', 'ten', 'two']\n",
      "['one', 'six', 'ten', 'two']\n"
     ]
    }
   ],
   "source": [
    "# Now, let's try to give an example with multiple arguments in lambda function using map() :\n",
    "\n",
    "letter1 = ['o', 's', 't', 't']\n",
    "letter2 = ['n', 'i', 'e', 'w']\n",
    "letter3 = ['e', 'x', 'n', 'o']\n",
    "\n",
    "number = map(lambda x, y, z: x+y+z, letter1, letter2, letter3)\n",
    "print(list(number))\n",
    "print(list(map(lambda x, y, z: x+y+z, letter1, letter2, letter3)))\n",
    "\n",
    "# In the above example, we have combined three strings using 👉🏻+ operator in the lambda definition. \n",
    "# Note that map() takes each element from iterable objects one by one and in order."
   ]
  },
  {
   "attachments": {},
   "cell_type": "markdown",
   "metadata": {},
   "source": [
    "\n",
    "4 . Lambda within Built-in (filter()) Functions-2"
   ]
  },
  {
   "attachments": {},
   "cell_type": "markdown",
   "metadata": {},
   "source": [
    "* `Lambda within` filter() `function` :\n",
    "\n",
    "`filter()` filters the given sequence (iterable objects) with the help of a function (lambda) that tests each element in the sequence to be true or not.\n",
    "\n",
    "`The basic formula syntax` is : filter(function, sequence)"
   ]
  },
  {
   "cell_type": "code",
   "execution_count": 20,
   "metadata": {},
   "outputs": [
    {
     "name": "stdout",
     "output_type": "stream",
     "text": [
      "<class 'filter'>\n",
      "Even numbers are :  [0, 2, 4, 6, 8]\n"
     ]
    }
   ],
   "source": [
    "# Let's grasp the subject with an example in which we'll filter the even numbers in a list.\n",
    "\n",
    "first_ten = [ 0, 1, 2, 3, 4, 5, 6, 7, 8, 9] # range(10)\n",
    "\n",
    "even = filter(lambda x: x % 2 == False, first_ten)\n",
    "\n",
    "print(type(even)) # it's 'filter' type ,\n",
    "                  # in order to print the result,\n",
    "                  # we'd better convert it into the list type .\n",
    "\n",
    "print('Even numbers are : ', list(even))"
   ]
  },
  {
   "cell_type": "markdown",
   "metadata": {},
   "source": [
    "Note that filter() filters each element in the iterable object, depending on whether the function's result is True or False."
   ]
  },
  {
   "cell_type": "code",
   "execution_count": 22,
   "metadata": {},
   "outputs": [
    {
     "name": "stdout",
     "output_type": "stream",
     "text": [
      "Vowels are :  ['a', 'e', 'i']\n"
     ]
    }
   ],
   "source": [
    "# This time, we'll filter the vowels from the first ten letters in the list.\n",
    "\n",
    "vowel_list = ['a', 'e', 'i', 'o', 'u']\n",
    "first_ten = ['a', 'b', 'c', 'd', 'e', 'f', 'g', 'h', 'i', 'j']\n",
    "\n",
    "vowels = filter(lambda x : True if x in vowel_list else False, first_ten)\n",
    "\n",
    "print('Vowels are : ', list(vowels))"
   ]
  },
  {
   "cell_type": "markdown",
   "metadata": {},
   "source": [
    "We draw your attention to this issue that lambda definition we use in this example gives only True or False as a result."
   ]
  },
  {
   "cell_type": "code",
   "execution_count": 29,
   "metadata": {},
   "outputs": [
    {
     "name": "stdout",
     "output_type": "stream",
     "text": [
      "[6, 7, 8, 9, 10]\n"
     ]
    }
   ],
   "source": [
    "number_list = [1, 2, 3, 4, 5, 6, 7, 8, 9, 10]\n",
    "\n",
    "result = list(filter(lambda x: x >= 6, number_list))  \n",
    "\n",
    "print(result)"
   ]
  },
  {
   "attachments": {},
   "cell_type": "markdown",
   "metadata": {},
   "source": [
    "5. Lambda within User-Defined Functions\n",
    "\n",
    "* Lambda within def :\n",
    "\n",
    "Using a lambda statement in a user-defined function provides us useful opportunities. We can define a group of functions that we may use later in our program flow. Take a look at the following example :"
   ]
  },
  {
   "cell_type": "code",
   "execution_count": 33,
   "metadata": {},
   "outputs": [
    {
     "name": "stdout",
     "output_type": "stream",
     "text": [
      "4\n",
      "8\n",
      "16\n",
      "32\n"
     ]
    }
   ],
   "source": [
    "def modular_function(n):\n",
    "    return lambda x : x**n\n",
    "\n",
    "power_of_2 = modular_function(2) # first sub- function derived from def\n",
    "power_of_3 = modular_function(3) # second sub- function derived from def\n",
    "power_of_4 = modular_function(4) # third sub- function derived from def\n",
    "\n",
    "print(power_of_2(2)) # 2 to the power of 2\n",
    "print(power_of_3(2)) # 2 to the power of 3\n",
    "print(power_of_4(2)) # 2 to the power of 4\n",
    "print(modular_function(5)(2)) # 2 to the power of 5\n",
    "# The modular_function takes one argument, number n, and returns a function that takes the power of any given number x by that n."
   ]
  },
  {
   "attachments": {},
   "cell_type": "markdown",
   "metadata": {},
   "source": [
    "This usage enabled us to use a function as flexible. Thanks to lambda, we could use a single `def` in different ways with the arguments we wanted. We've created three sub-functions derived from a single `def`. This is flexibility!\n",
    "\n",
    "We can define a function with the same logic as the previous example that repeats the string passed into it."
   ]
  },
  {
   "cell_type": "markdown",
   "metadata": {},
   "source": [
    "We can define a function with the same logic as the previous example that repeats the string passed into it."
   ]
  },
  {
   "cell_type": "code",
   "execution_count": 35,
   "metadata": {},
   "outputs": [
    {
     "name": "stdout",
     "output_type": "stream",
     "text": [
      "alex alex \n",
      "lara lara lara \n",
      "linda linda linda linda \n",
      "github github github github github \n"
     ]
    }
   ],
   "source": [
    "def repeater(n):\n",
    "    return lambda x: x * n\n",
    "\n",
    "repeat_2_times =repeater(2) # repeats 2 times\n",
    "repeat_3_times =repeater(3) # repeats 3 times\n",
    "repeat_4_times =repeater(4) # repeats 4 times\n",
    "\n",
    "print(repeat_2_times('alex '))\n",
    "print(repeat_3_times('lara '))\n",
    "print(repeat_4_times('linda '))\n",
    "print(repeater(5)('github ')) # repeats 5 times"
   ]
  },
  {
   "cell_type": "code",
   "execution_count": null,
   "metadata": {},
   "outputs": [],
   "source": []
  }
 ],
 "metadata": {
  "kernelspec": {
   "display_name": "Python 3",
   "language": "python",
   "name": "python3"
  },
  "language_info": {
   "codemirror_mode": {
    "name": "ipython",
    "version": 3
   },
   "file_extension": ".py",
   "mimetype": "text/x-python",
   "name": "python",
   "nbconvert_exporter": "python",
   "pygments_lexer": "ipython3",
   "version": "3.11.3"
  },
  "orig_nbformat": 4
 },
 "nbformat": 4,
 "nbformat_minor": 2
}
